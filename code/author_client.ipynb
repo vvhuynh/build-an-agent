{
 "cells": [
  {
   "cell_type": "markdown",
   "id": "fbbed95a-4ffe-4528-8e6d-08e2bcd9149f",
   "metadata": {},
   "source": [
    "# Author Agent Client"
   ]
  },
  {
   "cell_type": "code",
   "execution_count": null,
   "id": "dd8e991b-d6f3-4642-b499-58531149ca0f",
   "metadata": {},
   "outputs": [],
   "source": [
    "%pip install -r ../requirements.txt > /dev/null\n",
    "from dotenv import load_dotenv\n",
    "_ = load_dotenv(\"../variables.env\")\n",
    "_ = load_dotenv(\"../secrets.env\")"
   ]
  },
  {
   "cell_type": "code",
   "execution_count": null,
   "id": "907fa086-42ee-40a0-8e60-d392de19b399",
   "metadata": {},
   "outputs": [],
   "source": [
    "import logging\n",
    "logging.basicConfig(level=logging.INFO)\n",
    "\n",
    "from IPython.display import Markdown\n",
    "\n",
    "from docgen_agent.author import SectionWriterState, Section, graph"
   ]
  },
  {
   "cell_type": "markdown",
   "id": "423b4043-81d6-4a1b-b432-b07fb3d043a0",
   "metadata": {},
   "source": [
    "## Inputs\n",
    "\n",
    "Try making changes to the agent request."
   ]
  },
  {
   "cell_type": "code",
   "execution_count": null,
   "id": "51c1ee85-8472-46be-bbe9-66a14e93c812",
   "metadata": {},
   "outputs": [],
   "source": [
    "topic = \"Examples of AI agents in various industries.\""
   ]
  },
  {
   "cell_type": "code",
   "execution_count": null,
   "id": "37462bac-9f3b-4da7-b008-e5e3382a9362",
   "metadata": {},
   "outputs": [],
   "source": [
    "section_name = \"Real-World Applications\""
   ]
  },
  {
   "cell_type": "code",
   "execution_count": null,
   "id": "84e5c8da-f05c-47c1-b66f-d269bf2392c3",
   "metadata": {},
   "outputs": [],
   "source": [
    "section_description = \"Examples of AI agents in various industries\""
   ]
  },
  {
   "cell_type": "code",
   "execution_count": null,
   "id": "fad74181-f3cb-40df-8159-97a1a7de3a1e",
   "metadata": {},
   "outputs": [],
   "source": [
    "section_research = True"
   ]
  },
  {
   "cell_type": "markdown",
   "id": "ff6ce016-b2f9-42bc-841b-5670b20a8688",
   "metadata": {},
   "source": [
    "## Ask the Agent\n",
    "\n",
    "Here, we will send your request to the agent. The agent will print log messages to let you know what it is up to. Expect this step to take a few minutes."
   ]
  },
  {
   "cell_type": "code",
   "execution_count": null,
   "id": "c0669ee3-902c-44a0-8916-147e53a4fabc",
   "metadata": {},
   "outputs": [],
   "source": [
    "state = SectionWriterState(\n",
    "    index=1,\n",
    "    topic=topic,\n",
    "    section=Section(\n",
    "        name=section_name,\n",
    "        description=section_description,\n",
    "        research=section_research,\n",
    "        content=\"\"\n",
    "    ),\n",
    ")\n",
    "\n",
    "state = await graph.ainvoke(state)"
   ]
  },
  {
   "cell_type": "markdown",
   "id": "6bdedc2f-164c-4ace-8f5b-cf27eefadbd2",
   "metadata": {},
   "source": [
    "## Read the section\n",
    "\n",
    "The author will populate the content field for the provided section. Let's check out your section:"
   ]
  },
  {
   "cell_type": "code",
   "execution_count": null,
   "id": "5d2908c3-f9f8-4cd3-b68d-fc3a56ca645c",
   "metadata": {},
   "outputs": [],
   "source": [
    "Markdown(state[\"section\"].content)"
   ]
  },
  {
   "cell_type": "code",
   "execution_count": null,
   "id": "c91ae11a-640e-4a15-86a1-3c11f40087ef",
   "metadata": {},
   "outputs": [],
   "source": []
  }
 ],
 "metadata": {
  "kernelspec": {
   "display_name": "Python 3 (ipykernel)",
   "language": "python",
   "name": "python3"
  },
  "language_info": {
   "codemirror_mode": {
    "name": "ipython",
    "version": 3
   },
   "file_extension": ".py",
   "mimetype": "text/x-python",
   "name": "python",
   "nbconvert_exporter": "python",
   "pygments_lexer": "ipython3",
   "version": "3.12.9"
  }
 },
 "nbformat": 4,
 "nbformat_minor": 5
}
