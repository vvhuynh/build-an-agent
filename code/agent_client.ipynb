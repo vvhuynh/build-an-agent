{
 "cells": [
  {
   "cell_type": "markdown",
   "id": "fbbed95a-4ffe-4528-8e6d-08e2bcd9149f",
   "metadata": {},
   "source": [
    "# Agent Client"
   ]
  },
  {
   "cell_type": "code",
   "execution_count": null,
   "id": "77243ccf-c702-4f67-85f7-0ebe7808a963",
   "metadata": {},
   "outputs": [],
   "source": [
    "%pip install -r ../requirements.txt > /dev/null\n",
    "from dotenv import load_dotenv\n",
    "_ = load_dotenv(\"../variables.env\")\n",
    "_ = load_dotenv(\"../secrets.env\")"
   ]
  },
  {
   "cell_type": "code",
   "execution_count": null,
   "id": "907fa086-42ee-40a0-8e60-d392de19b399",
   "metadata": {},
   "outputs": [],
   "source": [
    "import logging\n",
    "logging.basicConfig(level=logging.INFO)\n",
    "\n",
    "from IPython.display import Markdown\n",
    "\n",
    "from docgen_agent import AgentState, graph"
   ]
  },
  {
   "cell_type": "markdown",
   "id": "423b4043-81d6-4a1b-b432-b07fb3d043a0",
   "metadata": {},
   "source": [
    "## Inputs\n",
    "\n",
    "Try making changes to the agent request."
   ]
  },
  {
   "cell_type": "code",
   "execution_count": null,
   "id": "51c1ee85-8472-46be-bbe9-66a14e93c812",
   "metadata": {},
   "outputs": [],
   "source": [
    "topic = \"The latest developments with AI Agents in 2025.\""
   ]
  },
  {
   "cell_type": "code",
   "execution_count": null,
   "id": "d0abd9ad-d1c0-4b57-b1b2-a87fa70df787",
   "metadata": {},
   "outputs": [],
   "source": [
    "structure = \"\"\"\n",
    "This article should be informative and future looking.\n",
    "The topics of the report should stay enterprise focused and professional.\n",
    "\n",
    "The report structure should include:\n",
    "1. Introduction (no research needed)\n",
    "- Brief overview of the topic area that will be discussed in the rest of the article\n",
    "\n",
    "2. Main Body Sections:\n",
    "- One dedicated section for EACH major feature\n",
    "- Each section should examine:\n",
    "- How the new feature is beneficial\n",
    "- Impacts on enterprises\n",
    "- One example use case (2-3 sentences)\n",
    "\n",
    "3. No Main Body Sections other than the ones dedicated to each feature\n",
    "\n",
    "4. Conclusion that summarizes the new features (no research needed)\n",
    "- Final recommendations\n",
    "\"\"\""
   ]
  },
  {
   "cell_type": "markdown",
   "id": "ff6ce016-b2f9-42bc-841b-5670b20a8688",
   "metadata": {},
   "source": [
    "## Ask the Agent\n",
    "\n",
    "Here, we will send your request to the agent. The agent will print log messages to let you know what it is up to. Expect this step to take a few minutes."
   ]
  },
  {
   "cell_type": "code",
   "execution_count": null,
   "id": "c0669ee3-902c-44a0-8916-147e53a4fabc",
   "metadata": {},
   "outputs": [],
   "source": [
    "state = AgentState(\n",
    "    topic=topic,\n",
    "    report_structure=structure\n",
    ")\n",
    "\n",
    "state = await graph.ainvoke(state)"
   ]
  },
  {
   "cell_type": "markdown",
   "id": "6bdedc2f-164c-4ace-8f5b-cf27eefadbd2",
   "metadata": {},
   "source": [
    "## Render the Final Document\n",
    "\n",
    "Let's see what the agent was able to find for us."
   ]
  },
  {
   "cell_type": "code",
   "execution_count": null,
   "id": "fe890305-0f1c-4c8d-a918-b5d0dbbfbe39",
   "metadata": {},
   "outputs": [],
   "source": [
    "Markdown(state[\"report\"])"
   ]
  },
  {
   "cell_type": "code",
   "execution_count": null,
   "id": "36d51b56-dbe5-4bb5-bf9d-9e9f4998ff91",
   "metadata": {},
   "outputs": [],
   "source": []
  }
 ],
 "metadata": {
  "kernelspec": {
   "display_name": "Python 3 (ipykernel)",
   "language": "python",
   "name": "python3"
  },
  "language_info": {
   "codemirror_mode": {
    "name": "ipython",
    "version": 3
   },
   "file_extension": ".py",
   "mimetype": "text/x-python",
   "name": "python",
   "nbconvert_exporter": "python",
   "pygments_lexer": "ipython3",
   "version": "3.12.9"
  }
 },
 "nbformat": 4,
 "nbformat_minor": 5
}
