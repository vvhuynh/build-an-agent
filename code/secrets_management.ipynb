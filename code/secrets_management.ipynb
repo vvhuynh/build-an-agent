{
 "cells": [
  {
   "cell_type": "markdown",
   "metadata": {
    "vscode": {
     "languageId": "raw"
    }
   },
   "source": [
    "# 🔐 Secrets Manager\n"
   ]
  },
  {
   "cell_type": "code",
   "execution_count": null,
   "metadata": {},
   "outputs": [],
   "source": [
    "%pip install -r ../requirements.txt > /dev/null\n",
    "from dotenv import load_dotenv\n",
    "_ = load_dotenv(\"../variables.env\")\n",
    "_ = load_dotenv(\"../secrets.env\")"
   ]
  },
  {
   "cell_type": "code",
   "execution_count": 2,
   "metadata": {},
   "outputs": [],
   "source": [
    "import ipywidgets as widgets\n",
    "from IPython.display import display, clear_output\n",
    "import os\n",
    "from datetime import datetime\n",
    "\n",
    "# Simple API keys configuration\n",
    "API_KEYS = {\n",
    "    'NVIDIA_API_KEY': {'name': 'NVIDIA API Key', 'required': True, 'icon': '🎯'},\n",
    "    'TAVILY_API_KEY': {'name': 'Tavily API Key', 'required': True, 'icon': '🔍'},\n",
    "    'LANGSMITH_API_KEY': {'name': 'LangSmith API Key', 'required': False, 'icon': '📊'}\n",
    "}\n",
    "\n",
    "SECRETS_FILE = \"../secrets.env\"\n",
    "\n",
    "# Create API key input widgets\n",
    "api_key_widgets = {}\n",
    "\n",
    "for key, config in API_KEYS.items():\n",
    "    required_text = \" (Required)\" if config['required'] else \" (Optional)\"\n",
    "    api_key_widgets[key] = widgets.Password(\n",
    "        placeholder=f'Enter your {config[\"name\"]}',\n",
    "        description=f'{config[\"icon\"]} {config[\"name\"]}{required_text}:',\n",
    "        style={'description_width': '200px'},\n",
    "        layout=widgets.Layout(width='500px', margin='10px')\n",
    "    )\n",
    "\n",
    "# Buttons\n",
    "save_button = widgets.Button(\n",
    "    description='💾 Save API Keys',\n",
    "    button_style='success',\n",
    "    layout=widgets.Layout(width='150px', height='40px', margin='10px'),\n",
    "    disabled=True  # Start disabled\n",
    ")\n",
    "\n",
    "clear_button = widgets.Button(\n",
    "    description='🗑️ Clear All', \n",
    "    button_style='warning',\n",
    "    layout=widgets.Layout(width='150px', height='40px', margin='10px')\n",
    ")\n",
    "\n",
    "# Status output\n",
    "status_output = widgets.Output(\n",
    "    layout=widgets.Layout(width='100%', height='150px', border='1px solid #ccc', margin='10px')\n",
    ")\n"
   ]
  },
  {
   "cell_type": "code",
   "execution_count": 3,
   "metadata": {},
   "outputs": [],
   "source": [
    "# Track original values to detect changes\n",
    "original_values = {}\n",
    "\n",
    "def check_for_changes():\n",
    "    \"\"\"Enable save button if any values have changed\"\"\"\n",
    "    has_changes = False\n",
    "    for key, widget in api_key_widgets.items():\n",
    "        if widget.value != original_values.get(key, ''):\n",
    "            has_changes = True\n",
    "            break\n",
    "    \n",
    "    save_button.disabled = not has_changes\n",
    "    if has_changes:\n",
    "        save_button.button_style = 'success'\n",
    "        save_button.description = '💾 Save Changes'\n",
    "    else:\n",
    "        save_button.button_style = 'info'\n",
    "        save_button.description = '💾 No Changes'\n",
    "\n",
    "def on_value_change(change):\n",
    "    \"\"\"Called when any API key input changes\"\"\"\n",
    "    check_for_changes()\n",
    "\n",
    "# Simple functions for API key management\n",
    "def save_api_keys(b):\n",
    "    \"\"\"Save API keys\"\"\"\n",
    "    with status_output:\n",
    "        clear_output()\n",
    "        print(f\"🕐 {datetime.now().strftime('%H:%M:%S')} - Saving API keys...\")\n",
    "        \n",
    "        saved_keys = []\n",
    "        env_content = []\n",
    "        \n",
    "        for key, widget in api_key_widgets.items():\n",
    "            if widget.value.strip():\n",
    "                os.environ[key] = widget.value.strip()\n",
    "                env_content.append(f'{key}={widget.value.strip()}')\n",
    "                config = API_KEYS[key]\n",
    "                print(f\"   ✓ {config['icon']} {config['name']} - Saved\")\n",
    "                saved_keys.append(config['name'])\n",
    "        \n",
    "        # Write to secrets.env file\n",
    "        if env_content:\n",
    "            with open(SECRETS_FILE, 'w') as f:\n",
    "                f.write('\\n'.join(env_content) + '\\n')\n",
    "            print(f\"\\n📁 Saved to {SECRETS_FILE}\")\n",
    "        \n",
    "        # Update original values after save\n",
    "        for key, widget in api_key_widgets.items():\n",
    "            original_values[key] = widget.value\n",
    "        \n",
    "        if saved_keys:\n",
    "            print(f\"\\n🎉 SUCCESS! {len(saved_keys)} API keys saved.\")\n",
    "            print(f\"🚀 Ready to use in your notebooks!\")\n",
    "        else:\n",
    "            print(\"⚠️  No API keys provided.\")\n",
    "        \n",
    "        # Disable save button after successful save\n",
    "        check_for_changes()\n",
    "\n",
    "# Connect button events\n",
    "save_button.on_click(save_api_keys)\n",
    "\n",
    "# Add change listeners to all API key widgets\n",
    "for widget in api_key_widgets.values():\n",
    "    widget.observe(on_value_change, names='value')\n",
    "\n"
   ]
  },
  {
   "cell_type": "code",
   "execution_count": 4,
   "metadata": {},
   "outputs": [
    {
     "data": {
      "application/vnd.jupyter.widget-view+json": {
       "model_id": "16e27113d5e94e0b9e10d6ab9352de91",
       "version_major": 2,
       "version_minor": 0
      },
      "text/plain": [
       "Tab(children=(VBox(children=(Password(description='🎯 NVIDIA API Key (Required):', layout=Layout(margin='10px',…"
      ]
     },
     "metadata": {},
     "output_type": "display_data"
    }
   ],
   "source": [
    "form_widgets = []\n",
    "\n",
    "# Display the dashboard\n",
    "for widget in api_key_widgets.values():\n",
    "    form_widgets.append(widget)\n",
    "\n",
    "# Buttons\n",
    "form_widgets.append(widgets.HBox([save_button]))\n",
    "\n",
    "form = widgets.VBox(form_widgets)\n",
    "\n",
    "tabs = widgets.Tab()\n",
    "tabs.children = [form, status_output]\n",
    "tabs.titles = ['Secrets Manager', 'Logs']\n",
    "\n",
    "display(tabs)\n",
    "\n",
    "# Load existing values if available\n",
    "for key in api_key_widgets.keys():\n",
    "    existing_value = os.getenv(key, '')\n",
    "    api_key_widgets[key].value = existing_value\n",
    "    original_values[key] = existing_value\n",
    "\n",
    "# Initial button state check\n",
    "check_for_changes()"
   ]
  },
  {
   "cell_type": "code",
   "execution_count": null,
   "metadata": {},
   "outputs": [],
   "source": []
  }
 ],
 "metadata": {
  "kernelspec": {
   "display_name": "Python 3 (ipykernel)",
   "language": "python",
   "name": "python3"
  },
  "language_info": {
   "codemirror_mode": {
    "name": "ipython",
    "version": 3
   },
   "file_extension": ".py",
   "mimetype": "text/x-python",
   "name": "python",
   "nbconvert_exporter": "python",
   "pygments_lexer": "ipython3",
   "version": "3.12.9"
  }
 },
 "nbformat": 4,
 "nbformat_minor": 4
}
