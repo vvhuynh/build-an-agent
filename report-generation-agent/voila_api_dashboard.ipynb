{
 "cells": [
  {
   "cell_type": "markdown",
   "metadata": {
    "vscode": {
     "languageId": "plaintext"
    }
   },
   "source": [
    "# 🔑 Workshop API Keys Dashboard\n",
    "\n",
    "## Secure API Key Management for Creative AI Agents\n",
    "\n",
    "This dashboard provides a secure interface for students to input their API keys for the workshop.\n"
   ]
  },
  {
   "cell_type": "code",
   "execution_count": 1,
   "metadata": {},
   "outputs": [
    {
     "data": {
      "application/vnd.jupyter.widget-view+json": {
       "model_id": "b7287c6ee55144909d97b3c0598ddf82",
       "version_major": 2,
       "version_minor": 0
      },
      "text/plain": [
       "HTML(value='<h2>⚙️ Settings Loaded</h2>\\n<ul>\\n<li>✅ <strong>ipywidgets</strong> for all UI components</li>\\n<…"
      ]
     },
     "metadata": {},
     "output_type": "display_data"
    }
   ],
   "source": [
    "# Settings Block - Import dependencies and setup\n",
    "import ipywidgets as widgets\n",
    "from IPython.display import display, clear_output\n",
    "import os\n",
    "from datetime import datetime\n",
    "import mistune\n",
    "\n",
    "# Create markdown renderer using the user's specification\n",
    "Markdown = lambda x : widgets.HTML(mistune.create_markdown(escape=False)(x))\n",
    "\n",
    "# Display settings confirmation\n",
    "display(Markdown(\"## ⚙️ Settings Loaded\\n\\n- ✅ **ipywidgets** for all UI components\\n- ✅ **mistune** for markdown rendering\\n- ✅ **Environment variables** for key storage\\n\\n---\"))\n"
   ]
  },
  {
   "cell_type": "code",
   "execution_count": 2,
   "metadata": {},
   "outputs": [
    {
     "data": {
      "application/vnd.jupyter.widget-view+json": {
       "model_id": "3e26d59d493848769e1b5e4628c70fc4",
       "version_major": 2,
       "version_minor": 0
      },
      "text/plain": [
       "HTML(value='<h1>🔑 <strong>API Keys Management</strong></h1>\\n<p>Secure interface for workshop API keys. Keys a…"
      ]
     },
     "metadata": {},
     "output_type": "display_data"
    },
    {
     "data": {
      "application/vnd.jupyter.widget-view+json": {
       "model_id": "ad070e34d3194a3697aeb16a97afa878",
       "version_major": 2,
       "version_minor": 0
      },
      "text/plain": [
       "VBox(children=(Password(description='NGC API Key:', layout=Layout(margin='5px 0', width='100%'), placeholder='…"
      ]
     },
     "metadata": {},
     "output_type": "display_data"
    }
   ],
   "source": [
    "# Secrets Management Form Block\n",
    "display(Markdown(\"# 🔑 **API Keys Management**\\n\\nSecure interface for workshop API keys. Keys are stored in environment variables and `.env` file.\"))\n",
    "\n",
    "# Create form widgets\n",
    "ngc_key_input = widgets.Password(\n",
    "    placeholder='Enter your NGC API Key',\n",
    "    description='NGC API Key:',\n",
    "    style={'description_width': '120px'},\n",
    "    layout=widgets.Layout(width='100%', margin='5px 0')\n",
    ")\n",
    "\n",
    "openai_key_input = widgets.Password(\n",
    "    placeholder='Enter your OpenAI API Key', \n",
    "    description='OpenAI API Key:',\n",
    "    style={'description_width': '120px'},\n",
    "    layout=widgets.Layout(width='100%', margin='5px 0')\n",
    ")\n",
    "\n",
    "# Status display\n",
    "status_display = widgets.HTML(\n",
    "    value=\"<div style='padding: 10px; background: #f8f9fa; border-radius: 5px; margin: 10px 0;'><strong>Status:</strong> Ready to save keys</div>\"\n",
    ")\n",
    "\n",
    "# Functions\n",
    "def save_api_keys(b):\n",
    "    \"\"\"Save API keys to environment and .env file\"\"\"\n",
    "    saved_keys = []\n",
    "    \n",
    "    # Save NGC API Key\n",
    "    if ngc_key_input.value.strip():\n",
    "        os.environ['NGC_API_KEY'] = ngc_key_input.value.strip()\n",
    "        saved_keys.append(\"NGC API\")\n",
    "        \n",
    "    # Save OpenAI API Key  \n",
    "    if openai_key_input.value.strip():\n",
    "        os.environ['OPENAI_API_KEY'] = openai_key_input.value.strip()\n",
    "        saved_keys.append(\"OpenAI API\")\n",
    "    \n",
    "    # Save to .env file\n",
    "    env_content = []\n",
    "    if ngc_key_input.value.strip():\n",
    "        env_content.append(f'NGC_API_KEY={ngc_key_input.value.strip()}')\n",
    "    if openai_key_input.value.strip():\n",
    "        env_content.append(f'OPENAI_API_KEY={openai_key_input.value.strip()}')\n",
    "        \n",
    "    if env_content:\n",
    "        with open('.env', 'w') as f:\n",
    "            f.write('\\n'.join(env_content) + '\\n')\n",
    "    \n",
    "    # Update status\n",
    "    if saved_keys:\n",
    "        status_display.value = f\"<div style='padding: 10px; background: #d4edda; border-radius: 5px; margin: 10px 0; color: #155724;'><strong>✅ SUCCESS!</strong> Saved: {', '.join(saved_keys)} keys. Ready for AI agents!</div>\"\n",
    "    else:\n",
    "        status_display.value = \"<div style='padding: 10px; background: #fff3cd; border-radius: 5px; margin: 10px 0; color: #856404;'><strong>⚠️ Warning:</strong> No keys provided</div>\"\n",
    "\n",
    "def clear_api_keys(b):\n",
    "    \"\"\"Clear all API keys\"\"\"\n",
    "    # Clear environment variables\n",
    "    for key in ['NGC_API_KEY', 'OPENAI_API_KEY']:\n",
    "        if key in os.environ:\n",
    "            del os.environ[key]\n",
    "            \n",
    "    # Clear .env file\n",
    "    if os.path.exists('.env'):\n",
    "        os.remove('.env')\n",
    "        \n",
    "    # Clear inputs\n",
    "    ngc_key_input.value = ''\n",
    "    openai_key_input.value = ''\n",
    "    \n",
    "    status_display.value = \"<div style='padding: 10px; background: #f8d7da; border-radius: 5px; margin: 10px 0; color: #721c24;'><strong>🗑️ Cleared:</strong> All API keys removed</div>\"\n",
    "\n",
    "# Create buttons\n",
    "save_button = widgets.Button(\n",
    "    description='💾 Save Keys',\n",
    "    button_style='success',\n",
    "    layout=widgets.Layout(width='150px', height='35px')\n",
    ")\n",
    "\n",
    "clear_button = widgets.Button(\n",
    "    description='🗑️ Clear Keys',\n",
    "    button_style='warning',\n",
    "    layout=widgets.Layout(width='150px', height='35px')\n",
    ")\n",
    "\n",
    "# Connect events\n",
    "save_button.on_click(save_api_keys)\n",
    "clear_button.on_click(clear_api_keys)\n",
    "\n",
    "# Display form\n",
    "form_container = widgets.VBox([\n",
    "    ngc_key_input,\n",
    "    openai_key_input,\n",
    "    widgets.HBox([save_button, clear_button], layout=widgets.Layout(margin='10px 0')), \n",
    "    status_display\n",
    "], layout=widgets.Layout(\n",
    "    padding='20px', \n",
    "    border='1px solid #dee2e6', \n",
    "    border_radius='8px',\n",
    "    height='10000px',  \n",
    "    width='100%',    \n",
    "    overflow='auto'  # Add scrollbar if content exceeds height\n",
    "))\n",
    "\n",
    "display(form_container)\n"
   ]
  },
  {
   "cell_type": "code",
   "execution_count": null,
   "metadata": {},
   "outputs": [],
   "source": []
  }
 ],
 "metadata": {
  "kernelspec": {
   "display_name": "Python 3 (ipykernel)",
   "language": "python",
   "name": "python3"
  },
  "language_info": {
   "codemirror_mode": {
    "name": "ipython",
    "version": 3
   },
   "file_extension": ".py",
   "mimetype": "text/x-python",
   "name": "python",
   "nbconvert_exporter": "python",
   "pygments_lexer": "ipython3",
   "version": "3.12.9"
  }
 },
 "nbformat": 4,
 "nbformat_minor": 4
}
