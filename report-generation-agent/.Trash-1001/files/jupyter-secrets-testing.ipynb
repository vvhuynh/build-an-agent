{
 "cells": [
  {
   "cell_type": "code",
   "execution_count": 24,
   "id": "d407e45b-fdf4-49d0-b444-1e1187740c63",
   "metadata": {
    "scrolled": true
   },
   "outputs": [
    {
     "name": "stdout",
     "output_type": "stream",
     "text": [
      "Requirement already satisfied: jupyter_secrets_manager in /opt/conda/lib/python3.12/site-packages (0.4.0)\n",
      "Extension imported successfully!\n",
      "Version: 0.4.0\n"
     ]
    }
   ],
   "source": [
    "#import jupyter_secrets_manager\n",
    "\n",
    "!pip install jupyter_secrets_manager\n",
    "\n",
    "print(\"Extension imported successfully!\")\n",
    "print(f\"Version: {jupyter_secrets_manager.__version__ if hasattr(jupyter_secrets_manager, '__version__') else 'Unknown'}\")"
   ]
  },
  {
   "cell_type": "code",
   "execution_count": 27,
   "id": "b4c6bc79-9574-49a1-91c0-c84deb006f24",
   "metadata": {},
   "outputs": [
    {
     "data": {
      "application/javascript": [
       "alert('JavaScript is working!');"
      ],
      "text/plain": [
       "<IPython.core.display.Javascript object>"
      ]
     },
     "execution_count": 27,
     "metadata": {},
     "output_type": "execute_result"
    }
   ],
   "source": [
    "from IPython.display import Javascript\n",
    "\n",
    "Javascript(\"alert('JavaScript is working!');\")"
   ]
  },
  {
   "cell_type": "code",
   "execution_count": 26,
   "id": "0c1c0aea-d638-468d-a577-da7ffd286ceb",
   "metadata": {},
   "outputs": [
    {
     "name": "stdout",
     "output_type": "stream",
     "text": [
      "Obtaining file:///project\n",
      "  Installing build dependencies ... \u001b[?25ldone\n",
      "\u001b[?25h  Checking if build backend supports build_editable ... \u001b[?25ldone\n",
      "\u001b[?25h  Getting requirements to build editable ... \u001b[?25lerror\n",
      "  \u001b[1;31merror\u001b[0m: \u001b[1msubprocess-exited-with-error\u001b[0m\n",
      "  \n",
      "  \u001b[31m×\u001b[0m \u001b[32mGetting requirements to build editable\u001b[0m did not run successfully.\n",
      "  \u001b[31m│\u001b[0m exit code: \u001b[1;36m1\u001b[0m\n",
      "  \u001b[31m╰─>\u001b[0m \u001b[31m[14 lines of output]\u001b[0m\n",
      "  \u001b[31m   \u001b[0m error: Multiple top-level packages discovered in a flat-layout: ['code', 'assets'].\n",
      "  \u001b[31m   \u001b[0m \n",
      "  \u001b[31m   \u001b[0m To avoid accidental inclusion of unwanted files or directories,\n",
      "  \u001b[31m   \u001b[0m setuptools will not proceed with this build.\n",
      "  \u001b[31m   \u001b[0m \n",
      "  \u001b[31m   \u001b[0m If you are trying to create a single distribution with multiple packages\n",
      "  \u001b[31m   \u001b[0m on purpose, you should not rely on automatic discovery.\n",
      "  \u001b[31m   \u001b[0m Instead, consider the following options:\n",
      "  \u001b[31m   \u001b[0m \n",
      "  \u001b[31m   \u001b[0m 1. set up custom discovery (`find` directive with `include` or `exclude`)\n",
      "  \u001b[31m   \u001b[0m 2. use a `src-layout`\n",
      "  \u001b[31m   \u001b[0m 3. explicitly set `py_modules` or `packages` with a list of names\n",
      "  \u001b[31m   \u001b[0m \n",
      "  \u001b[31m   \u001b[0m To find more information, look for \"package discovery\" on setuptools docs.\n",
      "  \u001b[31m   \u001b[0m \u001b[31m[end of output]\u001b[0m\n",
      "  \n",
      "  \u001b[1;35mnote\u001b[0m: This error originates from a subprocess, and is likely not a problem with pip.\n",
      "\u001b[1;31merror\u001b[0m: \u001b[1msubprocess-exited-with-error\u001b[0m\n",
      "\n",
      "\u001b[31m×\u001b[0m \u001b[32mGetting requirements to build editable\u001b[0m did not run successfully.\n",
      "\u001b[31m│\u001b[0m exit code: \u001b[1;36m1\u001b[0m\n",
      "\u001b[31m╰─>\u001b[0m See above for output.\n",
      "\n",
      "\u001b[1;35mnote\u001b[0m: This error originates from a subprocess, and is likely not a problem with pip.\n",
      "\u001b[?25hObtaining file:///project\n",
      "  Installing build dependencies ... \u001b[?25ldone\n",
      "\u001b[?25h  Checking if build backend supports build_editable ... \u001b[?25ldone\n",
      "\u001b[?25h  Getting requirements to build editable ... \u001b[?25lerror\n",
      "  \u001b[1;31merror\u001b[0m: \u001b[1msubprocess-exited-with-error\u001b[0m\n",
      "  \n",
      "  \u001b[31m×\u001b[0m \u001b[32mGetting requirements to build editable\u001b[0m did not run successfully.\n",
      "  \u001b[31m│\u001b[0m exit code: \u001b[1;36m1\u001b[0m\n",
      "  \u001b[31m╰─>\u001b[0m \u001b[31m[14 lines of output]\u001b[0m\n",
      "  \u001b[31m   \u001b[0m error: Multiple top-level packages discovered in a flat-layout: ['code', 'assets'].\n",
      "  \u001b[31m   \u001b[0m \n",
      "  \u001b[31m   \u001b[0m To avoid accidental inclusion of unwanted files or directories,\n",
      "  \u001b[31m   \u001b[0m setuptools will not proceed with this build.\n",
      "  \u001b[31m   \u001b[0m \n",
      "  \u001b[31m   \u001b[0m If you are trying to create a single distribution with multiple packages\n",
      "  \u001b[31m   \u001b[0m on purpose, you should not rely on automatic discovery.\n",
      "  \u001b[31m   \u001b[0m Instead, consider the following options:\n",
      "  \u001b[31m   \u001b[0m \n",
      "  \u001b[31m   \u001b[0m 1. set up custom discovery (`find` directive with `include` or `exclude`)\n",
      "  \u001b[31m   \u001b[0m 2. use a `src-layout`\n",
      "  \u001b[31m   \u001b[0m 3. explicitly set `py_modules` or `packages` with a list of names\n",
      "  \u001b[31m   \u001b[0m \n",
      "  \u001b[31m   \u001b[0m To find more information, look for \"package discovery\" on setuptools docs.\n",
      "  \u001b[31m   \u001b[0m \u001b[31m[end of output]\u001b[0m\n",
      "  \n",
      "  \u001b[1;35mnote\u001b[0m: This error originates from a subprocess, and is likely not a problem with pip.\n",
      "\u001b[1;31merror\u001b[0m: \u001b[1msubprocess-exited-with-error\u001b[0m\n",
      "\n",
      "\u001b[31m×\u001b[0m \u001b[32mGetting requirements to build editable\u001b[0m did not run successfully.\n",
      "\u001b[31m│\u001b[0m exit code: \u001b[1;36m1\u001b[0m\n",
      "\u001b[31m╰─>\u001b[0m See above for output.\n",
      "\n",
      "\u001b[1;35mnote\u001b[0m: This error originates from a subprocess, and is likely not a problem with pip.\n",
      "\u001b[?25h/opt/conda/lib/python3.12/site-packages/jupyterlab/debuglog.py:54: UserWarning: An error occurred.\n",
      "  warnings.warn(\"An error occurred.\")\n",
      "/opt/conda/lib/python3.12/site-packages/jupyterlab/debuglog.py:55: UserWarning: subprocess.CalledProcessError: Command '['/opt/conda/bin/python3.12', '-m', 'pip', 'install', '-e', '/project']' returned non-zero exit status 1.\n",
      "  warnings.warn(msg[-1].strip())\n",
      "/opt/conda/lib/python3.12/site-packages/jupyterlab/debuglog.py:56: UserWarning: See the log file for details: /tmp/jupyterlab-debug-ko9tt__x.log\n",
      "  warnings.warn(f\"See the log file for details: {log_path!s}\")\n",
      "\u001b[31m\u001b[1mUsage Error\u001b[22m\u001b[39m: No project found in /project\n",
      "\n",
      "\u001b[1m$ \u001b[22myarn run [--inspect] [--inspect-brk] [-T,--top-level] [-B,--binaries-only] <scriptName> ...\n"
     ]
    }
   ],
   "source": [
    "# Clone the repo to your local environment\n",
    "# Change directory to the jupyter_secrets_manager directory\n",
    "# Install package in development mode\n",
    "!pip install -e \".\"\n",
    "# Link your development version of the extension with JupyterLab\n",
    "!jupyter labextension develop . --overwrite\n",
    "# Rebuild extension Typescript source after making changes\n",
    "!jlpm build"
   ]
  },
  {
   "cell_type": "code",
   "execution_count": null,
   "id": "bda7a763-f7c8-496a-b6a5-cc14fcf79d39",
   "metadata": {},
   "outputs": [],
   "source": []
  }
 ],
 "metadata": {
  "kernelspec": {
   "display_name": "Python 3 (ipykernel)",
   "language": "python",
   "name": "python3"
  },
  "language_info": {
   "codemirror_mode": {
    "name": "ipython",
    "version": 3
   },
   "file_extension": ".py",
   "mimetype": "text/x-python",
   "name": "python",
   "nbconvert_exporter": "python",
   "pygments_lexer": "ipython3",
   "version": "3.12.9"
  }
 },
 "nbformat": 4,
 "nbformat_minor": 5
}
