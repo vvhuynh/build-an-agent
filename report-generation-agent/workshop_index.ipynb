{
  "cells": [
    {
      "cell_type": "code",
      "execution_count": null,
      "metadata": {
        "vscode": {
          "languageId": "plaintext"
        }
      },
      "outputs": [],
      "source": [
        "# 🤖 Build An Agent Workshop\n",
        "\n",
        "Welcome to the comprehensive Build An Agent workshop! This workshop will take you through the complete process of building AI agents from scratch.\n",
        "\n",
        "## 🎯 Workshop Overview\n",
        "\n",
        "In this workshop, you'll learn:\n",
        "- How to set up and manage API keys securely\n",
        "- The fundamentals of building AI agents\n",
        "- How to create tools and integrate them with LLMs\n",
        "- How to build interactive dashboards for your agents\n",
        "- Best practices for agent development\n",
        "\n",
        "---\n",
        "\n",
        "## 🗂️ Workshop Components\n",
        "\n",
        "Choose your path through the workshop:\n"
      ]
    },
    {
      "cell_type": "code",
      "execution_count": null,
      "metadata": {
        "vscode": {
          "languageId": "plaintext"
        }
      },
      "outputs": [],
      "source": [
        "### 🔑 **Step 1: API Key Setup**\n",
        "\n",
        "Before building agents, you need to configure your API keys securely.\n",
        "\n",
        "**Choose your preferred method:**\n",
        "\n",
        "- **[📝 Simple API Form](api_form_demo.ipynb)** *(Recommended for beginners)*\n",
        "  - Quick and easy API key setup\n",
        "  - Perfect for getting started fast\n",
        "\n",
        "- **[🛡️ Advanced Secrets Management](secrets_demo.ipynb)** *(For advanced users)*\n",
        "  - Encrypted storage of API keys\n",
        "  - Professional-grade security\n",
        "\n",
        "- **[📊 Dashboard Interface](voila_api_dashboard.ipynb)** *(For interactive setup)*\n",
        "  - Beautiful web interface\n",
        "  - Great for demos and presentations\n"
      ]
    },
    {
      "cell_type": "code",
      "execution_count": null,
      "metadata": {
        "vscode": {
          "languageId": "plaintext"
        }
      },
      "outputs": [],
      "source": [
        "### 🤖 **Step 2: Build Your First Agent**\n",
        "\n",
        "Once your API keys are configured, dive into the main workshop content:\n",
        "\n",
        "- **[🚀 Build An Agent - Main Workshop](build_an_agent_students.ipynb)**\n",
        "  - Complete step-by-step agent building tutorial\n",
        "  - Learn the four key components of agents\n",
        "  - Hands-on coding exercises\n",
        "  - Build a working agent from scratch\n"
      ]
    },
    {
      "cell_type": "code",
      "execution_count": null,
      "metadata": {
        "vscode": {
          "languageId": "plaintext"
        }
      },
      "outputs": [],
      "source": [
        "### 📈 **Step 3: Advanced Topics**\n",
        "\n",
        "Expand your agent with advanced capabilities:\n",
        "\n",
        "- **Data Integration**: Use the included `floods.csv` dataset\n",
        "- **Custom Tools**: Extend your agent with specialized functions\n",
        "- **Caching**: Optimize performance with smart caching\n",
        "- **Production Deployment**: Scale your agent for real-world use\n"
      ]
    },
    {
      "cell_type": "code",
      "execution_count": null,
      "metadata": {
        "vscode": {
          "languageId": "plaintext"
        }
      },
      "outputs": [],
      "source": [
        "---\n",
        "\n",
        "## 🚦 Quick Start\n",
        "\n",
        "**New to AI agents?** Follow this path:\n",
        "1. Start with [Simple API Form](api_form_demo.ipynb) to set up your keys\n",
        "2. Jump into [Build An Agent](build_an_agent_students.ipynb) for the main workshop\n",
        "3. Experiment with the advanced features\n",
        "\n",
        "**Want to see a demo first?** Check out the [Dashboard Interface](voila_api_dashboard.ipynb)\n",
        "\n",
        "**Need enterprise-grade security?** Use [Advanced Secrets Management](secrets_demo.ipynb)\n",
        "\n",
        "---\n",
        "\n",
        "## 📋 Prerequisites\n",
        "\n",
        "- NGC API Key (for NVIDIA models)\n",
        "- OpenAI API Key (optional, for OpenAI models)\n",
        "- Basic Python knowledge\n",
        "- Curiosity about AI agents! 🤖\n",
        "\n",
        "---\n",
        "\n",
        "## 🆘 Need Help?\n",
        "\n",
        "- Each notebook contains detailed instructions and hints\n",
        "- Look for 💡 **NEED SOME HELP?** sections with code examples\n",
        "- Check the requirements.txt for dependency information\n",
        "\n",
        "**Let's build some amazing agents! 🚀**\n"
      ]
    }
  ],
  "metadata": {
    "language_info": {
      "name": "python"
    }
  },
  "nbformat": 4,
  "nbformat_minor": 2
}
