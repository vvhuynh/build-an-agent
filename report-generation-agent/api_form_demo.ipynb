{
 "cells": [
  {
   "cell_type": "code",
   "execution_count": null,
   "metadata": {
    "vscode": {
     "languageId": "plaintext"
    }
   },
   "outputs": [],
   "source": [
    "# 🔑 Simple API Key Form\n",
    "\n",
    "## Option 1: Basic ipywidgets Form (Recommended)\n",
    "\n",
    "This creates a clean, simple form for students to input their API keys.\n"
   ]
  },
  {
   "cell_type": "code",
   "execution_count": null,
   "metadata": {},
   "outputs": [],
   "source": [
    "# Import and show the simple form\n",
    "from simple_api_form import show_api_form\n",
    "\n",
    "# Display the form\n",
    "form = show_api_form()\n"
   ]
  },
  {
   "cell_type": "code",
   "execution_count": null,
   "metadata": {},
   "outputs": [],
   "source": [
    "## Test Your Keys\n",
    "\n",
    "After entering your keys above, run this cell to verify they were saved:\n"
   ]
  },
  {
   "cell_type": "code",
   "execution_count": null,
   "metadata": {},
   "outputs": [],
   "source": [
    "# Test that keys are accessible\n",
    "import os\n",
    "\n",
    "print(\"API Keys Status:\")\n",
    "print(f\"NGC API Key: {'✅ Set' if os.getenv('NGC_API_KEY') else '❌ Not found'}\")\n",
    "print(f\"OpenAI API Key: {'✅ Set' if os.getenv('OPENAI_API_KEY') else '❌ Not found'}\")\n",
    "\n",
    "# Show first 8 characters (masked)\n",
    "ngc_key = os.getenv('NGC_API_KEY')\n",
    "if ngc_key:\n",
    "    print(f\"NGC Key preview: {ngc_key[:8]}...\")\n",
    "\n",
    "print(\"\\n🚀 Ready to build AI agents!\")\n"
   ]
  },
  {
   "cell_type": "code",
   "execution_count": null,
   "metadata": {},
   "outputs": [],
   "source": [
    "## Comparison: What Voilà-gridstack Would Require\n",
    "\n",
    "**Simple ipywidgets approach (above):**\n",
    "- ✅ 75 lines of Python code\n",
    "- ✅ Works immediately in any Jupyter notebook  \n",
    "- ✅ Students just run one cell\n",
    "- ✅ Zero deployment complexity\n",
    "\n",
    "**Voilà-gridstack approach would require:**\n",
    "- ❌ Install voilà-gridstack: `mamba install -c conda-forge voila-gridstack`\n",
    "- ❌ Configure notebook with gridstack metadata\n",
    "- ❌ Set up voilà server deployment  \n",
    "- ❌ Manage server hosting and URLs\n",
    "- ❌ Debug voilà rendering issues\n",
    "- ❌ Students need to access external dashboard URL\n",
    "\n",
    "**For a simple form, voilà-gridstack is massive overkill!**\n"
   ]
  },
  {
   "cell_type": "code",
   "execution_count": null,
   "metadata": {},
   "outputs": [],
   "source": [
    "## Alternative: Ultra-Simple .env Approach\n",
    "\n",
    "**What your students could do instead:**\n",
    "\n",
    "1. Create `.env` file with one line: `NGC_API_KEY=your_key_here`\n",
    "2. Import in notebook: `from dotenv import load_dotenv; load_dotenv()`\n",
    "3. Use the key: `os.getenv('NGC_API_KEY')`\n",
    "\n",
    "**Total complexity:** 3 lines vs 75+ lines\n"
   ]
  }
 ],
 "metadata": {
  "kernelspec": {
   "display_name": "Python 3 (ipykernel)",
   "language": "python",
   "name": "python3"
  },
  "language_info": {
   "codemirror_mode": {
    "name": "ipython",
    "version": 3
   },
   "file_extension": ".py",
   "mimetype": "text/x-python",
   "name": "python",
   "nbconvert_exporter": "python",
   "pygments_lexer": "ipython3",
   "version": "3.12.9"
  }
 },
 "nbformat": 4,
 "nbformat_minor": 4
}
