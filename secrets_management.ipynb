{
 "cells": [
  {
   "cell_type": "markdown",
   "metadata": {
    "vscode": {
     "languageId": "raw"
    }
   },
   "source": [
    "# 🔐 API Keys Dashboard\n",
    "\n",
    "Simple and secure API key management for your AI agents.\n",
    "\n",
    "## 📋 Setup Instructions\n",
    "\n",
    "1. **Enter your API keys below** (only NGC is required)\n",
    "2. **Click \"Save API Keys\"** to store them securely  \n",
    "3. **Start building your AI agents!**\n",
    "\n",
    "> 💡 Your API keys are stored securely and never displayed in plain text.\n"
   ]
  },
  {
   "cell_type": "code",
   "execution_count": 5,
   "metadata": {},
   "outputs": [],
   "source": [
    "import ipywidgets as widgets\n",
    "from IPython.display import display, clear_output\n",
    "import os\n",
    "from datetime import datetime\n",
    "\n",
    "# Simple API keys configuration\n",
    "API_KEYS = {\n",
    "    'NVIDIA_API_KEY': {'name': 'NVIDIA API Key', 'required': True, 'icon': '🎯'},\n",
    "    'TAVILY_API_KEY': {'name': 'Tavily API Key', 'required': False, 'icon': '🔍'},\n",
    "    'LANGSMITH_API_KEY': {'name': 'LangSmith API Key', 'required': False, 'icon': '📊'}\n",
    "}\n",
    "\n",
    "# Create API key input widgets\n",
    "api_key_widgets = {}\n",
    "\n",
    "for key, config in API_KEYS.items():\n",
    "    required_text = \" (Required)\" if config['required'] else \" (Optional)\"\n",
    "    api_key_widgets[key] = widgets.Password(\n",
    "        placeholder=f'Enter your {config[\"name\"]}',\n",
    "        description=f'{config[\"icon\"]} {config[\"name\"]}{required_text}:',\n",
    "        style={'description_width': '200px'},\n",
    "        layout=widgets.Layout(width='500px', margin='10px')\n",
    "    )\n",
    "\n",
    "# Buttons\n",
    "save_button = widgets.Button(\n",
    "    description='💾 Save API Keys',\n",
    "    button_style='success',\n",
    "    layout=widgets.Layout(width='150px', height='40px', margin='10px')\n",
    ")\n",
    "\n",
    "clear_button = widgets.Button(\n",
    "    description='🗑️ Clear All', \n",
    "    button_style='warning',\n",
    "    layout=widgets.Layout(width='150px', height='40px', margin='10px')\n",
    ")\n",
    "\n",
    "# Status output\n",
    "status_output = widgets.Output(\n",
    "    layout=widgets.Layout(width='100%', height='150px', border='1px solid #ccc', margin='10px')\n",
    ")\n"
   ]
  },
  {
   "cell_type": "code",
   "execution_count": 10,
   "metadata": {},
   "outputs": [],
   "source": [
    "# Simple functions for API key management\n",
    "def save_api_keys(b):\n",
    "    \"\"\"Save API keys\"\"\"\n",
    "    with status_output:\n",
    "        clear_output()\n",
    "        print(f\"🕐 {datetime.now().strftime('%H:%M:%S')} - Saving API keys...\")\n",
    "        \n",
    "        saved_keys = []\n",
    "        env_content = []\n",
    "        \n",
    "        for key, widget in api_key_widgets.items():\n",
    "            if widget.value.strip():\n",
    "                os.environ[key] = widget.value.strip()\n",
    "                env_content.append(f'{key}={widget.value.strip()}')\n",
    "                config = API_KEYS[key]\n",
    "                print(f\"   ✓ {config['icon']} {config['name']} - Saved\")\n",
    "                saved_keys.append(config['name'])\n",
    "        \n",
    "        # Write to secrets.env file\n",
    "        if env_content:\n",
    "            with open('secrets.env', 'w') as f:\n",
    "                f.write('\\n'.join(env_content) + '\\n')\n",
    "            print(f\"\\n📁 Saved to secrets.env\")\n",
    "        \n",
    "        if saved_keys:\n",
    "            print(f\"\\n🎉 SUCCESS! {len(saved_keys)} API keys saved.\")\n",
    "            print(f\"🚀 Ready to use in your notebooks!\")\n",
    "        else:\n",
    "            print(\"⚠️  No API keys provided.\")\n",
    "\n",
    "# Connect button events\n",
    "save_button.on_click(save_api_keys)\n",
    "\n"
   ]
  },
  {
   "cell_type": "code",
   "execution_count": 13,
   "metadata": {},
   "outputs": [
    {
     "data": {
      "application/vnd.jupyter.widget-view+json": {
       "model_id": "e805498a915f42fb9b8435b377ce5e10",
       "version_major": 2,
       "version_minor": 0
      },
      "text/plain": [
       "Tab(children=(VBox(children=(Password(description='🎯 NVIDIA API Key (Required):', layout=Layout(margin='10px',…"
      ]
     },
     "metadata": {},
     "output_type": "display_data"
    }
   ],
   "source": [
    "form_widgets = []\n",
    "\n",
    "# Display the dashboard\n",
    "for widget in api_key_widgets.values():\n",
    "    form_widgets.append(widget)\n",
    "\n",
    "# Buttons\n",
    "form_widgets.append(widgets.HBox([save_button]))\n",
    "\n",
    "form = widgets.VBox(form_widgets)\n",
    "\n",
    "tabs = widgets.Tab()\n",
    "tabs.children = [form, status_output]\n",
    "tabs.titles = ['Secrets Manager', 'Logs']\n",
    "\n",
    "display(tabs)\n",
    "\n",
    "# Load existing values if available\n",
    "for key in api_key_widgets.keys():\n",
    "    existing_value = os.getenv(key)\n",
    "    if existing_value:\n",
    "        api_key_widgets[key].value = existing_value\n",
    "\n",
    "\n",
    "# Pop up message \n",
    "# Make save API key inactive by default - API keys changed --> activate"
   ]
  },
  {
   "cell_type": "code",
   "execution_count": null,
   "metadata": {},
   "outputs": [],
   "source": []
  }
 ],
 "metadata": {
  "kernelspec": {
   "display_name": "Python 3 (ipykernel)",
   "language": "python",
   "name": "python3"
  },
  "language_info": {
   "codemirror_mode": {
    "name": "ipython",
    "version": 3
   },
   "file_extension": ".py",
   "mimetype": "text/x-python",
   "name": "python",
   "nbconvert_exporter": "python",
   "pygments_lexer": "ipython3",
   "version": "3.12.9"
  }
 },
 "nbformat": 4,
 "nbformat_minor": 4
}
